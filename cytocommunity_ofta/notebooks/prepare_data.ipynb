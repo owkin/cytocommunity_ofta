{
 "cells": [
  {
   "cell_type": "code",
   "execution_count": 1,
   "id": "5f89e452-b0ba-48a1-b316-c1cac6e49ad0",
   "metadata": {},
   "outputs": [],
   "source": [
    "from sowce.data.dataset_classes import VisiumCohort\n",
    "from loguru import logger\n",
    "import pandas as pd\n",
    "import numpy as np\n",
    "import os\n",
    "import random"
   ]
  },
  {
   "cell_type": "code",
   "execution_count": 6,
   "id": "8e649ea2-1645-428c-87ad-b73dbe3e17a4",
   "metadata": {},
   "outputs": [
    {
     "name": "stderr",
     "output_type": "stream",
     "text": [
      "\u001b[32m2024-10-31 16:00:09.787\u001b[0m | \u001b[1mINFO    \u001b[0m | \u001b[36m__main__\u001b[0m:\u001b[36m<module>\u001b[0m:\u001b[36m14\u001b[0m - \u001b[1mFiltering UMI...\u001b[0m\n",
      "\u001b[32m2024-10-31 16:00:16.259\u001b[0m | \u001b[1mINFO    \u001b[0m | \u001b[36m__main__\u001b[0m:\u001b[36m<module>\u001b[0m:\u001b[36m16\u001b[0m - \u001b[1mFiltering done.\u001b[0m\n"
     ]
    }
   ],
   "source": [
    "dataset_id = \"dataset-dc3510e2-76eb-47f6-9bb4-d20d340ee808\"\n",
    "zarr_dir = f\"/home/owkin/data/{dataset_id}/without_spotclean/SpatialData\"\n",
    "path_dataset = f\"{zarr_dir}/*.zarr\"\n",
    "dataset = VisiumCohort(\n",
    "    path_dataset=path_dataset,\n",
    "    normalization=\"log_norm_count\", # load log(1+CPM) data\n",
    "    deconvolution_slot_name = \"deconv_cohort_level_2\",\n",
    "    radius=1,\n",
    "    ignore_sample_ids=[\"CH_B_015a_vis_Visium\"], # We need to ignore this samples that failed QC to avoid an error in dataset.filter_umi() later\n",
    "    list_sample_ids=[ids_intersection[0]]\n",
    ")\n",
    "_ = dataset.load_counts_cohort()\n",
    "_ = dataset.load_deconvolution_cohort() # include cell type mapping in this function if needed\n",
    "logger.info(\"Filtering UMI...\")\n",
    "dataset.filter_umi(200)\n",
    "logger.info(\"Filtering done.\")"
   ]
  },
  {
   "cell_type": "code",
   "execution_count": 7,
   "id": "39b94e5a-7ae6-43ad-a90a-ba893bf2cd64",
   "metadata": {},
   "outputs": [
    {
     "data": {
      "text/plain": [
       "['B_cell',\n",
       " 'DC',\n",
       " 'Endothelial',\n",
       " 'Fibroblast',\n",
       " 'Granulocyte',\n",
       " 'Malignant_bladder',\n",
       " 'Mast',\n",
       " 'MoMac',\n",
       " 'Plasma',\n",
       " 'Smooth_muscle',\n",
       " 'T_NK']"
      ]
     },
     "execution_count": 7,
     "metadata": {},
     "output_type": "execute_result"
    }
   ],
   "source": [
    "sample = dataset._dict_visium_samples[ids_intersection[0]]\n",
    "sample.list_celltypes"
   ]
  },
  {
   "cell_type": "code",
   "execution_count": 2,
   "id": "b5039661-c97f-4019-a1b4-a4cb4f323c2d",
   "metadata": {},
   "outputs": [],
   "source": [
    "ids_visium = ['CH_B_001a_vis',\n",
    " 'CH_B_001b_vbu',\n",
    " 'CH_B_002a_vis',\n",
    " 'CH_B_002b_vbu',\n",
    " 'CH_B_003b_vbu',\n",
    " 'CH_B_004a_vis',\n",
    " 'CH_B_004b_vbu',\n",
    " 'CH_B_006a_vis',\n",
    " 'CH_B_006b_vis',\n",
    " 'CH_B_007a_vis',\n",
    " 'CH_B_008a_vis',\n",
    " 'CH_B_008b_vis',\n",
    " 'CH_B_008b_vis16PCR',\n",
    " 'CH_B_008b_vis22PCR',\n",
    " 'CH_B_009a_vis',\n",
    " 'CH_B_009b_vis',\n",
    " 'CH_B_010a_vis',\n",
    " 'CH_B_010b_vis',\n",
    " 'CH_B_011a_vis',\n",
    " 'CH_B_011b_vis',\n",
    " 'CH_B_012a_vis',\n",
    " 'CH_B_013a_vis',\n",
    " 'CH_B_014a_vis',\n",
    " 'CH_B_015a_vis',\n",
    " 'CH_B_016a_vis',\n",
    " 'CH_B_017a_vis',\n",
    " 'CH_B_018a_vis',\n",
    " 'CH_B_019a_vis',\n",
    " 'CH_B_020a_vis',\n",
    " 'CH_B_021a_vis',\n",
    " 'CH_B_022a_vis',\n",
    " 'CH_B_022b_vis',\n",
    " 'CH_B_023a_vbu',\n",
    " 'CH_B_023a_vis',\n",
    " 'CH_B_024a_vis',\n",
    " 'CH_B_025a_vis',\n",
    " 'CH_B_025b_vis',\n",
    " 'CH_B_026a_vis',\n",
    " 'CH_B_026b_vis',\n",
    " 'CH_B_027a_vis',\n",
    " 'CH_B_028a_vis',\n",
    " 'CH_B_029a_vis',\n",
    " 'CH_B_030a_vis',\n",
    " 'CH_B_031a_vis',\n",
    " 'CH_B_032a_vis',\n",
    " 'CH_B_033a_vbu',\n",
    " 'CH_B_034a_vis',\n",
    " 'CH_B_035a_vis',\n",
    " 'CH_B_036a_vis',\n",
    " 'CH_B_037a_vis',\n",
    " 'CH_B_039a_vis',\n",
    " 'CH_B_041a_vbu',\n",
    " 'CH_B_044a_vbu',\n",
    " 'CH_B_045a_vis',\n",
    " 'CH_B_046a_vis',\n",
    " 'CH_B_047a_vbu',\n",
    " 'CH_B_050a_vis',\n",
    " 'CH_B_051a_vis',\n",
    " 'CH_B_052a_vis',\n",
    " 'CH_B_053a_vbu',\n",
    " 'CH_B_054a_vbu',\n",
    " 'CH_B_055a_vis',\n",
    " 'CH_B_056a_vis',\n",
    " 'CH_B_057a_vis',\n",
    " 'CH_B_058a_vis',\n",
    " 'CH_B_059a_vis',\n",
    " 'CH_B_060a_vis',\n",
    " 'CH_B_062a_vis',\n",
    " 'CH_B_063a_vis',\n",
    " 'CH_B_064a_vis',\n",
    " 'CH_B_066a_vis',\n",
    " 'CH_B_067a_vis',\n",
    " 'CH_B_068a_vis',\n",
    " 'CH_B_069a_vis',\n",
    " 'CH_B_070a_vis',\n",
    " 'CH_B_071a_vis',\n",
    " 'CH_B_072a_vis',\n",
    " 'CH_B_073a_vis',\n",
    " 'CH_B_074a_vis',\n",
    " 'CH_B_075a_vis',\n",
    " 'CH_B_076a_vis',\n",
    " 'CH_B_077a_vis',\n",
    " 'CH_B_078a_vis',\n",
    " 'CH_B_079a_vis',\n",
    " 'CH_B_080a_vis',\n",
    " 'CH_B_082a_vbu',\n",
    " 'CH_B_082a_vis',\n",
    " 'CH_B_083a_vis',\n",
    " 'CH_B_084a_vis',\n",
    " 'CH_B_085a_vis',\n",
    " 'CH_B_086a_vis',\n",
    " 'CH_B_087a_vis',\n",
    " 'CH_B_088a_vis',\n",
    " 'CH_B_090a_vis',\n",
    " 'CH_B_091a_vis',\n",
    " 'CH_B_092a_vis',\n",
    " 'CH_B_093a_vis',\n",
    " 'CH_B_094a_vis',\n",
    " 'CH_B_095a_vis',\n",
    " 'CH_B_096a_vis',\n",
    " 'CH_B_097a_vis']\n",
    "ids_visium_short = [x[:-4] for x in ids_visium]"
   ]
  },
  {
   "cell_type": "code",
   "execution_count": 3,
   "id": "909c4ad9-41f8-4c76-b9d3-2776571c2050",
   "metadata": {},
   "outputs": [],
   "source": [
    "fpath = \"/home/owkin/project/USR_DATA/DATA_YBARECHE/RNAXplorer_analysis/RNAXplorer_CHUV_Bladder_Baseline-patids.csv\"\n",
    "df_baseline = pd.read_csv(fpath)\n",
    "\n",
    "discovery_clinical = pd.read_csv(\"/home/owkin/project/mosaic_data/20240724/mosaic-chuv.uker-mibc-1.3_postruv_clinical_data.csv\")\n",
    "#discovery_clinical = discovery_clinical[discovery_clinical['os_censor'] == 0]\n",
    "merged_df = pd.merge(df_baseline, discovery_clinical, left_on=\"Tumour block ID for MOSAIC\", right_on=\"patient_id\")\n",
    "ids_clinical = merged_df[\"Tumour block ID for MOSAIC\"].tolist()"
   ]
  },
  {
   "cell_type": "code",
   "execution_count": 4,
   "id": "96567435-33ed-4d19-b139-9802fb2a1d92",
   "metadata": {},
   "outputs": [
    {
     "data": {
      "text/plain": [
       "76"
      ]
     },
     "execution_count": 4,
     "metadata": {},
     "output_type": "execute_result"
    }
   ],
   "source": [
    "ids_intersection = []\n",
    "for elem in ids_visium:\n",
    "    if elem[:-4] in ids_clinical:\n",
    "        ids_intersection.append(elem)\n",
    "len(ids_intersection)\n",
    "merged_df = merged_df[merged_df[\"Tumour block ID for MOSAIC\"].isin(ids_visium_short)]\n",
    "merged_df[\"visium_id\"] = [\n",
    "    elem + \"_vis\" if elem + \"_vis\" in ids_visium else elem + \"_vbu\" \n",
    "    for elem in merged_df[\"Tumour block ID for MOSAIC\"]\n",
    "]\n",
    "med = merged_df[\"os_years\"].median()\n",
    "len(ids_intersection)"
   ]
  },
  {
   "cell_type": "code",
   "execution_count": 5,
   "id": "3cb4382f-d44c-4c65-bcb2-496eb05293ad",
   "metadata": {},
   "outputs": [
    {
     "data": {
      "text/plain": [
       "['CH_B_001b_vbu',\n",
       " 'CH_B_002b_vbu',\n",
       " 'CH_B_003b_vbu',\n",
       " 'CH_B_004b_vbu',\n",
       " 'CH_B_006b_vis',\n",
       " 'CH_B_008b_vis',\n",
       " 'CH_B_009b_vis',\n",
       " 'CH_B_010a_vis',\n",
       " 'CH_B_011a_vis',\n",
       " 'CH_B_013a_vis',\n",
       " 'CH_B_016a_vis',\n",
       " 'CH_B_019a_vis',\n",
       " 'CH_B_020a_vis',\n",
       " 'CH_B_022a_vis',\n",
       " 'CH_B_023a_vbu',\n",
       " 'CH_B_023a_vis',\n",
       " 'CH_B_025a_vis',\n",
       " 'CH_B_027a_vis',\n",
       " 'CH_B_029a_vis',\n",
       " 'CH_B_030a_vis',\n",
       " 'CH_B_031a_vis',\n",
       " 'CH_B_032a_vis',\n",
       " 'CH_B_033a_vbu',\n",
       " 'CH_B_034a_vis',\n",
       " 'CH_B_035a_vis',\n",
       " 'CH_B_036a_vis',\n",
       " 'CH_B_037a_vis',\n",
       " 'CH_B_039a_vis',\n",
       " 'CH_B_041a_vbu',\n",
       " 'CH_B_044a_vbu',\n",
       " 'CH_B_045a_vis',\n",
       " 'CH_B_046a_vis',\n",
       " 'CH_B_047a_vbu',\n",
       " 'CH_B_050a_vis',\n",
       " 'CH_B_052a_vis',\n",
       " 'CH_B_053a_vbu',\n",
       " 'CH_B_054a_vbu',\n",
       " 'CH_B_055a_vis',\n",
       " 'CH_B_056a_vis',\n",
       " 'CH_B_057a_vis',\n",
       " 'CH_B_058a_vis',\n",
       " 'CH_B_059a_vis',\n",
       " 'CH_B_060a_vis',\n",
       " 'CH_B_062a_vis',\n",
       " 'CH_B_063a_vis',\n",
       " 'CH_B_064a_vis',\n",
       " 'CH_B_066a_vis',\n",
       " 'CH_B_067a_vis',\n",
       " 'CH_B_068a_vis',\n",
       " 'CH_B_069a_vis',\n",
       " 'CH_B_070a_vis',\n",
       " 'CH_B_071a_vis',\n",
       " 'CH_B_072a_vis',\n",
       " 'CH_B_073a_vis',\n",
       " 'CH_B_074a_vis',\n",
       " 'CH_B_075a_vis',\n",
       " 'CH_B_076a_vis',\n",
       " 'CH_B_077a_vis',\n",
       " 'CH_B_078a_vis',\n",
       " 'CH_B_079a_vis',\n",
       " 'CH_B_080a_vis',\n",
       " 'CH_B_082a_vbu',\n",
       " 'CH_B_082a_vis',\n",
       " 'CH_B_083a_vis',\n",
       " 'CH_B_084a_vis',\n",
       " 'CH_B_085a_vis',\n",
       " 'CH_B_086a_vis',\n",
       " 'CH_B_087a_vis',\n",
       " 'CH_B_088a_vis',\n",
       " 'CH_B_090a_vis',\n",
       " 'CH_B_092a_vis',\n",
       " 'CH_B_093a_vis',\n",
       " 'CH_B_094a_vis',\n",
       " 'CH_B_095a_vis',\n",
       " 'CH_B_096a_vis',\n",
       " 'CH_B_097a_vis']"
      ]
     },
     "execution_count": 5,
     "metadata": {},
     "output_type": "execute_result"
    }
   ],
   "source": [
    "ids_intersection"
   ]
  },
  {
   "cell_type": "code",
   "execution_count": 11,
   "id": "55a3c87d-794c-4681-9d94-7ca2dee6b9fc",
   "metadata": {},
   "outputs": [],
   "source": [
    "# Save sample names\n",
    "with open(\"/home/owkin/project/cytocommunity_results/chuv/ImageNameList.txt\", \"w\") as file:\n",
    "    for item in merged_df[\"visium_id\"]:\n",
    "        file.write(f\"{item}\\n\")"
   ]
  },
  {
   "cell_type": "code",
   "execution_count": 12,
   "id": "44273cf3-9d48-475e-89dd-704c5b0719c0",
   "metadata": {},
   "outputs": [],
   "source": [
    "# Save most dominant cell type\n",
    "#for id_visium in merged_df[\"visium_id\"]:\n",
    "#    sample = dataset._dict_visium_samples[id_visium]\n",
    "#    deconvolution_frac = sample.deconvolution_frac\n",
    "#    max_indices = np.argmax(deconvolution_frac, axis=1)\n",
    "#    dominant_cell_types = [sample.list_celltypes[i] for i in max_indices]\n",
    "#    with open(f\"supervised/chuv/{id_visium}_CellTypeLabel.txt\", \"w\") as file:\n",
    "#        for item in dominant_cell_types:\n",
    "#            file.write(f\"{item}\\n\")"
   ]
  },
  {
   "cell_type": "code",
   "execution_count": 13,
   "id": "9d98e0c6-b24a-46b2-bc22-5db6b1961ec7",
   "metadata": {},
   "outputs": [],
   "source": [
    "# Save deconvolution fraction\n",
    "for id_visium in merged_df[\"visium_id\"]:\n",
    "    sample = dataset._dict_visium_samples[id_visium]\n",
    "    deconvolution_frac = sample.deconvolution_frac\n",
    "    np.save(f\"/home/owkin/project/cytocommunity_results/chuv/{id_visium}_DeconvolutionFrac.npy\", deconvolution_frac)"
   ]
  },
  {
   "cell_type": "code",
   "execution_count": 14,
   "id": "849cc6e1-0949-4ccd-8472-275afca2f154",
   "metadata": {},
   "outputs": [],
   "source": [
    "for id_visium in merged_df[\"visium_id\"]:\n",
    "    sample = dataset._dict_visium_samples[id_visium]\n",
    "    x = sample.neighbors_idx.index.get_level_values(\"x\").tolist()\n",
    "    y = sample.neighbors_idx.index.get_level_values(\"y\").tolist()\n",
    "    with open(f\"/home/owkin/project/cytocommunity_results/chuv/{id_visium}_Coordinates.txt\", \"w\") as file:\n",
    "        for elem1, elem2 in zip(x, y):\n",
    "            file.write(f\"{elem1}\\t {elem2}\\n\")"
   ]
  },
  {
   "cell_type": "code",
   "execution_count": 19,
   "id": "9ddf506e-140f-4672-b5a2-09e8653f2829",
   "metadata": {},
   "outputs": [],
   "source": [
    "# Dummy labels\n",
    "for id_visium in merged_df[\"visium_id\"]:\n",
    "    with open(f\"/home/owkin/project/cytocommunity_results/unsupervised/chuv/{id_visium}_GraphLabel.txt\", \"w\") as file:\n",
    "        file.write(str(random.randint(0, 1)))"
   ]
  },
  {
   "cell_type": "code",
   "execution_count": 85,
   "id": "ebd3cf73-0c22-4035-841f-9f69ae0f33b2",
   "metadata": {},
   "outputs": [],
   "source": [
    "ids_low = merged_df[merged_df[\"os_years\"] > med][\"visium_id\"]\n",
    "for id_visium in ids_low:\n",
    "    with open(f\"supervised/chuv/{id_visium}_GraphLabel.txt\", \"w\") as file:\n",
    "        file.write(\"0\")\n",
    "\n",
    "ids_high = merged_df[merged_df[\"os_years\"] <= med][\"visium_id\"]\n",
    "for id_visium in ids_high:\n",
    "    with open(f\"supervised/chuv/{id_visium}_GraphLabel.txt\", \"w\") as file:\n",
    "        file.write(\"1\")"
   ]
  },
  {
   "cell_type": "code",
   "execution_count": 3,
   "id": "1c9ae273-721d-44d5-905f-b3bb396b06ba",
   "metadata": {},
   "outputs": [
    {
     "data": {
      "text/plain": [
       "74"
      ]
     },
     "execution_count": 3,
     "metadata": {},
     "output_type": "execute_result"
    }
   ],
   "source": [
    "len(os.listdir(\"/home/owkin/project/cytocommunity_results/chuv\"))"
   ]
  },
  {
   "cell_type": "code",
   "execution_count": 13,
   "id": "aae61059-e5a7-43f5-802b-ce6e1f4931c0",
   "metadata": {},
   "outputs": [
    {
     "name": "stdout",
     "output_type": "stream",
     "text": [
      "Number of elements in folder: 104\n"
     ]
    }
   ],
   "source": [
    "import os\n",
    "\n",
    "def count_elements_in_folder(folder_path):\n",
    "    try:\n",
    "        # List all elements in the folder\n",
    "        elements = os.listdir(folder_path)\n",
    "        # Count the number of elements\n",
    "        return len(elements)\n",
    "    except FileNotFoundError:\n",
    "        print(\"The specified folder does not exist.\")\n",
    "        return 0\n",
    "\n",
    "# Example usage\n",
    "folder_path = '/home/owkin/data/dataset-dc3510e2-76eb-47f6-9bb4-d20d340ee808/spaceranger_count'\n",
    "print(\"Number of elements in folder:\", count_elements_in_folder(folder_path))\n"
   ]
  },
  {
   "cell_type": "code",
   "execution_count": null,
   "id": "69da81fb-e2e0-4884-a3ef-640db1a5c97a",
   "metadata": {},
   "outputs": [],
   "source": []
  }
 ],
 "metadata": {
  "kernelspec": {
   "display_name": "sowce_env",
   "language": "python",
   "name": "sowce_env"
  },
  "language_info": {
   "codemirror_mode": {
    "name": "ipython",
    "version": 3
   },
   "file_extension": ".py",
   "mimetype": "text/x-python",
   "name": "python",
   "nbconvert_exporter": "python",
   "pygments_lexer": "ipython3",
   "version": "3.9.20"
  }
 },
 "nbformat": 4,
 "nbformat_minor": 5
}
